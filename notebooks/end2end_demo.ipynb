{
 "cells": [
  {
   "cell_type": "markdown",
   "metadata": {},
   "source": [
    "# End-to-End Demo: Stimulus → Rate → Spikes → Output\n\n",
    "This notebook builds a visual stimulus, evaluates an LGN neuron with both backends (BMTK vs BrainState/JAX),\n",
    "compares numerical responses, benchmarks runtime, generates Poisson spikes, and writes CSV/H5 outputs."
   ]
  },
  {
   "cell_type": "code",
   "execution_count": null,
   "metadata": {},
   "outputs": [],
   "source": [
    "import os, sys, time, statistics as stats\n",
    "import numpy as np\n",
    "import matplotlib.pyplot as plt\n",
    "\n",
    "# Ensure package root on path\n",
    "PKG_ROOT = os.path.abspath(os.path.join('..'))\n",
    "if PKG_ROOT not in sys.path: sys.path.insert(0, PKG_ROOT)\n",
    "\n",
    "from brainlgn_x.stimuli import drifting_grating, full_field_flash\n",
    "from brainlgn_x.filters import GaussianSpatialFilter, TemporalFilterCosineBump, SpatioTemporalFilter\n",
    "from brainlgn_x.transfer import ScalarTransferFunction\n",
    "from brainlgn_x.neuron import LGNNeuron\n",
    "from brainlgn_x.poisson import generate_inhomogeneous_poisson\n",
    "from brainlgn_x.io_output import write_spikes_csv, write_spikes_h5, write_rates_h5\n",
    "\n",
    "try:\n",
    "    import jax# noqa\n",
    "    HAVE_JAX = True\n",
    "except Exception:\n",
    "    HAVE_JAX = False\n"
   ]
  },
  {
   "cell_type": "markdown",
   "metadata": {},
   "source": [
    "## 1) Build stimulus (drifting grating)"
   ]
  },
  {
   "cell_type": "code",
   "execution_count": null,
   "metadata": {},
   "outputs": [],
   "source": [
    "row, col = 96, 192\n",
    "frame_rate = 1000.0\n",
    "gray = 0.25\n",
    "duration = 0.5\n",
    "cpd, tf, theta, contrast = 0.04, 4.0, 0.0, 0.8\n",
    "movie = drifting_grating(row, col, frame_rate, duration, gray_screen=gray, cpd=cpd, temporal_f=tf, theta=theta, contrast=contrast)\n",
    "print('Stimulus shape:', movie.shape, 'frame_rate:', movie.frame_rate)\n",
    "# Quick visualization: average intensity over time\n",
    "avg_t = movie.as_array().mean(axis=(1,2))\n",
    "plt.figure(figsize=(6,2)); plt.plot(movie.t_range, avg_t); plt.title('Average intensity over time'); plt.xlabel('s'); plt.show()\n"
   ]
  },
  {
   "cell_type": "markdown",
   "metadata": {},
   "source": [
    "## 2) Build an LGN neuron (ON, ReLU with bias)"
   ]
  },
  {
   "cell_type": "code",
   "execution_count": null,
   "metadata": {},
   "outputs": [],
   "source": [
    "# Spatial filter\n",
    "spatial = GaussianSpatialFilter(translate=(0.0, 0.0), sigma=(2.0, 2.0))\n",
    "# Temporal filter (cosine bumps)\n",
    "temporal = TemporalFilterCosineBump(weights=(0.6, -0.4), kpeaks=(15.0, 45.0), delays=(0,0))\n",
    "# Linear amplitude decides ON/OFF (positive ON)\n",
    "amplitude = 2.0\n",
    "# Transfer: ReLU with bias\n",
    "bias = 1.0\n",
    "transfer = ScalarTransferFunction(f'Max(0, s + {bias})')\n",
    "neuron = LGNNeuron(spatial, temporal, transfer, amplitude=amplitude)\n",
    "print('Neuron ready (ON)')\n"
   ]
  },
  {
   "cell_type": "markdown",
   "metadata": {},
   "source": [
    "## 3) Evaluate rates with both backends and compare parity"
   ]
  },
  {
   "cell_type": "code",
   "execution_count": null,
   "metadata": {},
   "outputs": [],
   "source": [
    "rates_bmtk = neuron.evaluate(movie.as_array(), separable=True, frame_rate=movie.frame_rate, backend='bmtk')\n",
    "if HAVE_JAX:\n",
    "    rates_bs = neuron.evaluate(movie.as_array(), separable=True, frame_rate=movie.frame_rate, backend='brainstate')\n",
    "else:\n",
    "    rates_bs = rates_bmtk\n",
    "\n",
    "diff = rates_bs - rates_bmtk\n",
    "mae  = np.mean(np.abs(diff))\n",
    "rmse = np.sqrt(np.mean(diff**2))\n",
    "mx   = np.max(np.abs(diff))\n",
    "corr = np.corrcoef(rates_bmtk, rates_bs)[0,1] if rates_bmtk.size>1 else 1.0\n",
    "print(f'Parity (BS vs BMTK): MAE={mae:.3e}, RMSE={rmse:.3e}, MaxAbs={mx:.3e}, Corr={corr:.6f}')\n",
    "\n",
    "plt.figure(figsize=(10,3))\n",
    "plt.plot(rates_bmtk, label='BMTK', lw=1)\n",
    "plt.plot(rates_bs,   label='BrainState', lw=1, alpha=0.7)\n",
    "plt.legend(); plt.title('Rates overlay'); plt.show()\n"
   ]
  },
  {
   "cell_type": "markdown",
   "metadata": {},
   "source": [
    "## 4) Benchmark runtime (separable)"
   ]
  },
  {
   "cell_type": "code",
   "execution_count": null,
   "metadata": {},
   "outputs": [],
   "source": [
    "def bench(fn, repeats=5, warmup=1):\n",
    "    for _ in range(warmup): fn()\n",
    "    times=[]\n",
    "    for _ in range(repeats):\n",
    "        t0=time.perf_counter(); fn(); times.append(time.perf_counter()-t0)\n",
    "    return {'mean': stats.mean(times), 'stdev': (stats.pstdev(times) if len(times)>1 else 0.0), 'min': min(times), 'max': max(times)}\n",
    "\n",
    "res_bmtk = bench(lambda: neuron.evaluate(movie.as_array(), separable=True, frame_rate=movie.frame_rate, backend='bmtk'), repeats=5, warmup=1)\n",
    "if HAVE_JAX:\n",
    "    res_bs   = bench(lambda: neuron.evaluate(movie.as_array(), separable=True, frame_rate=movie.frame_rate, backend='brainstate'), repeats=5, warmup=1)\n",
    "else:\n",
    "    res_bs   = res_bmtk\n",
    "print('Timing BMTK :', res_bmtk)\n",
    "print('Timing BS   :', res_bs)\n"
   ]
  },
  {
   "cell_type": "markdown",
   "metadata": {},
   "source": [
    "## 5) Generate Poisson spikes and write outputs"
   ]
  },
  {
   "cell_type": "code",
   "execution_count": null,
   "metadata": {},
   "outputs": [],
   "source": [
    "# Choose one backend's rates for spikes (here BrainState if available)\n",
    "rates = rates_bs if HAVE_JAX else rates_bmtk\n",
    "dt = 1.0 / movie.frame_rate\n",
    "gids, times = generate_inhomogeneous_poisson(rates, dt, base_seed=123)\n",
    "print('Generated spikes:', len(times))\n",
    "# Simple raster\n",
    "plt.figure(figsize=(8,2))\n",
    "plt.plot(times, np.zeros_like(times), '|', markersize=8)\n",
    "plt.title('Spike raster (single neuron)'); plt.xlabel('s'); plt.yticks([]); plt.show()\n",
    "\n",
    "# Outputs\n",
    "out_dir = os.path.abspath('./_outputs')\n",
    "os.makedirs(out_dir, exist_ok=True)\n",
    "write_rates_h5(os.path.join(out_dir, 'rates.h5'), rates, movie.frame_rate)\n",
    "write_spikes_csv(os.path.join(out_dir, 'spikes.csv'), gids, times)\n",
    "write_spikes_h5(os.path.join(out_dir, 'spikes.h5'), gids, times)\n",
    "print('Wrote outputs to:', out_dir)\n"
   ]
  }
 ],
 "metadata": {
  "kernelspec": {
   "display_name": "Python 3",
   "language": "python",
   "name": "python3"
  },
  "language_info": {
   "name": "python",
   "version": "3.11"
  }
 },
 "nbformat": 4,
 "nbformat_minor": 5
}

