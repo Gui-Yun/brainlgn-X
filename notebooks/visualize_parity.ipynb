{
 "cells": [
  {
   "cell_type": "markdown",
   "metadata": {},
   "source": [
    "# Visualize Parity between BMTK and BrainLGN-X\n",
    "\n",
    "This notebook compares outputs from BMTK's LNUnit and BrainLGN-X's LGNNeuron on the same stimulus and filter stack.\n",
    "It overlays rate time series, plots residuals, and reports numerical metrics (MAE/RMSE/MaxAbs/Corr)."
   ]
  },
  {
   "cell_type": "code",
   "execution_count": null,
   "metadata": {},
   "outputs": [],
   "source": [
    "import os, sys, numpy as np, matplotlib.pyplot as plt\n",
    "\n",
    "# Ensure package root on path (adjust if running from elsewhere)\n",
    "PKG_ROOT = os.path.abspath(os.path.join('..'))\n",
    "if PKG_ROOT not in sys.path: sys.path.insert(0, PKG_ROOT)\n",
    "\n",
    "from brainlgn_x.neuron import LGNNeuron\n",
    "from brainlgn_x.filters import GaussianSpatialFilter, TemporalFilterCosineBump, SpatioTemporalFilter\n",
    "from brainlgn_x.transfer import ScalarTransferFunction\n",
    "\n",
    "from bmtk.simulator.filternet.lgnmodel.lnunit import LNUnit\n",
    "from bmtk.simulator.filternet.lgnmodel.movie import Movie"
   ]
  },
  {
   "cell_type": "code",
   "execution_count": null,
   "metadata": {},
   "outputs": [],
   "source": [
    "def build_components(amplitude=1.0, bias=0.0):\n",
    "    spatial = GaussianSpatialFilter(translate=(0.0, 0.0), sigma=(2.0, 2.0))\n",
    "    tfilt   = TemporalFilterCosineBump(weights=(0.4, -0.3), kpeaks=(20.0, 60.0), delays=(0, 0))\n",
    "    st      = SpatioTemporalFilter(spatial, tfilt, amplitude=float(amplitude))\n",
    "    # Use Max to avoid two-arg Heaviside signature issues\n",
    "    xfer    = ScalarTransferFunction(f'Max(0, s + {bias})')\n",
    "    return st, xfer"
   ]
  },
  {
   "cell_type": "markdown",
   "metadata": {},
   "source": [
    "## Generate stimulus and compute outputs (separable path)"
   ]
  },
  {
   "cell_type": "code",
   "execution_count": null,
   "metadata": {},
   "outputs": [],
   "source": [
    "# Parameters\n",
    "rng = np.random.RandomState(0)\n",
    "T, H, W = 1000, 16, 16\n",
    "frame_rate = 1000.0  # Hz\n",
    "stim = rng.randn(T, H, W) * 0.05  # random stimulus\n",
    "\n",
    "# Build filters\n",
    "st, xfer = build_components(amplitude=1.0, bias=0.0)\n",
    "\n",
    "# BMTK reference (separable)\n",
    "movie  = Movie(stim, frame_rate=frame_rate)\n",
    "ln_ref = LNUnit(st, xfer)\n",
    "t_ref, y_ref = ln_ref.get_cursor(movie, separable=True).evaluate()\n",
    "y_ref = np.array(y_ref)\n",
    "\n",
    "# BrainLGN-X\n",
    "neuron = LGNNeuron(spatial_filter=st.spatial_filter, temporal_filter=st.temporal_filter,\n",
    "                   transfer_function=xfer, amplitude=st.amplitude)\n",
    "y_new = neuron.evaluate(stim, separable=True, frame_rate=frame_rate)\n",
    "\n",
    "# Metrics\n",
    "diff = y_new - y_ref\n",
    "mae  = np.mean(np.abs(diff))\n",
    "rmse = np.sqrt(np.mean(diff**2))\n",
    "mx   = np.max(np.abs(diff))\n",
    "corr = np.corrcoef(y_ref, y_new)[0,1]\n",
    "print(f'MAE={mae:.3e}, RMSE={rmse:.3e}, MaxAbs={mx:.3e}, Corr={corr:.6f}')"
   ]
  },
  {
   "cell_type": "markdown",
   "metadata": {},
   "source": [
    "## Plots: overlay, residual, scatter, histogram"
   ]
  },
  {
   "cell_type": "code",
   "execution_count": null,
   "metadata": {},
   "outputs": [],
   "source": [
    "fig, axs = plt.subplots(2, 2, figsize=(11, 6))\n",
    "axs = axs.ravel()\n",
    "\n",
    "axs[0].plot(y_ref, label='BMTK', lw=1)\n",
    "axs[0].plot(y_new, label='BrainLGN-X', lw=1, alpha=0.7)\n",
    "axs[0].set_title('Rates overlay'); axs[0].legend()\n",
    "\n",
    "axs[1].plot(diff, lw=1, color='C3')\n",
    "axs[1].axhline(0, color='k', lw=0.5)\n",
    "axs[1].set_title('Residual (new - ref)')\n",
    "\n",
    "axs[2].scatter(y_ref, y_new, s=6, alpha=0.6)\n",
    "m = float(max(y_ref.max(), y_new.max()))\n",
    "axs[2].plot([0, m], [0, m], 'k--', lw=1)\n",
    "axs[2].set_xlabel('ref'); axs[2].set_ylabel('new'); axs[2].set_title('Scatter')\n",
    "\n",
    "axs[3].hist(diff, bins=50, color='C1', alpha=0.85)\n",
    "axs[3].set_title('Residual histogram')\n",
    "\n",
    "plt.tight_layout(); plt.show()"
   ]
  },
  {
   "cell_type": "markdown",
   "metadata": {},
   "source": [
    "## Optional: non-separable path comparison"
   ]
  },
  {
   "cell_type": "code",
   "execution_count": null,
   "metadata": {},
   "outputs": [],
   "source": [
    "movie_ns  = Movie(stim, frame_rate=frame_rate)\n",
    "ln_ref_ns = LNUnit(st, xfer)\n",
    "t_ns, y_ref_ns = ln_ref_ns.get_cursor(movie_ns, separable=False, threshold=0.0).evaluate(downsample=1)\n",
    "y_ref_ns = np.array(y_ref_ns)\n",
    "\n",
    "y_new_ns = neuron.evaluate(stim, separable=False, threshold=0.0, downsample=1, frame_rate=frame_rate)\n",
    "diff_ns  = y_new_ns - y_ref_ns\n",
    "print('Non-separable: MAE=%.3e, RMSE=%.3e, MaxAbs=%.3e' % (\n",
    "    np.mean(np.abs(diff_ns)), np.sqrt(np.mean(diff_ns**2)), np.max(np.abs(diff_ns))\n",
    "))\n",
    "\n",
    "plt.figure(figsize=(10,3))\n",
    "plt.plot(y_ref_ns, label='BMTK (ns)', lw=1)\n",
    "plt.plot(y_new_ns, label='BrainLGN-X (ns)', lw=1, alpha=0.7)\n",
    "plt.legend(); plt.title('Non-separable overlay'); plt.show()"
   ]
  }
 ],
 "metadata": {
  "kernelspec": {
   "display_name": "brainlgn",
   "language": "python",
   "name": "python3"
  },
  "language_info": {
   "name": "python",
   "version": "3.9.23"
  }
 },
 "nbformat": 4,
 "nbformat_minor": 5
}
